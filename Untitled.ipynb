{
 "cells": [
  {
   "cell_type": "code",
   "execution_count": 1,
   "id": "9a0b6380-0873-4821-a43b-c1c7ae22a0b9",
   "metadata": {},
   "outputs": [],
   "source": [
    "import pandas as pd"
   ]
  },
  {
   "cell_type": "code",
   "execution_count": 2,
   "id": "c11d0e76-bad0-455f-93a5-733c1cf442a9",
   "metadata": {},
   "outputs": [
    {
     "data": {
      "text/html": [
       "<div>\n",
       "<style scoped>\n",
       "    .dataframe tbody tr th:only-of-type {\n",
       "        vertical-align: middle;\n",
       "    }\n",
       "\n",
       "    .dataframe tbody tr th {\n",
       "        vertical-align: top;\n",
       "    }\n",
       "\n",
       "    .dataframe thead th {\n",
       "        text-align: right;\n",
       "    }\n",
       "</style>\n",
       "<table border=\"1\" class=\"dataframe\">\n",
       "  <thead>\n",
       "    <tr style=\"text-align: right;\">\n",
       "      <th></th>\n",
       "      <th>id</th>\n",
       "      <th>title</th>\n",
       "      <th>genre</th>\n",
       "      <th>original_language</th>\n",
       "      <th>overview</th>\n",
       "      <th>popularity</th>\n",
       "      <th>release_date</th>\n",
       "      <th>vote_average</th>\n",
       "      <th>vote_count</th>\n",
       "    </tr>\n",
       "  </thead>\n",
       "  <tbody>\n",
       "    <tr>\n",
       "      <th>0</th>\n",
       "      <td>278</td>\n",
       "      <td>The Shawshank Redemption</td>\n",
       "      <td>Drama,Crime</td>\n",
       "      <td>en</td>\n",
       "      <td>Framed in the 1940s for the double murder of h...</td>\n",
       "      <td>94.075</td>\n",
       "      <td>23/09/1994</td>\n",
       "      <td>8.7</td>\n",
       "      <td>21862</td>\n",
       "    </tr>\n",
       "    <tr>\n",
       "      <th>1</th>\n",
       "      <td>19404</td>\n",
       "      <td>Dilwale Dulhania Le Jayenge</td>\n",
       "      <td>Comedy,Drama,Romance</td>\n",
       "      <td>hi</td>\n",
       "      <td>Raj is a rich, carefree, happy-go-lucky second...</td>\n",
       "      <td>25.408</td>\n",
       "      <td>19/10/1995</td>\n",
       "      <td>8.7</td>\n",
       "      <td>3731</td>\n",
       "    </tr>\n",
       "    <tr>\n",
       "      <th>2</th>\n",
       "      <td>238</td>\n",
       "      <td>The Godfather</td>\n",
       "      <td>Drama,Crime</td>\n",
       "      <td>en</td>\n",
       "      <td>Spanning the years 1945 to 1955, a chronicle o...</td>\n",
       "      <td>90.585</td>\n",
       "      <td>14/03/1972</td>\n",
       "      <td>8.7</td>\n",
       "      <td>16280</td>\n",
       "    </tr>\n",
       "    <tr>\n",
       "      <th>3</th>\n",
       "      <td>424</td>\n",
       "      <td>Schindler's List</td>\n",
       "      <td>Drama,History,War</td>\n",
       "      <td>en</td>\n",
       "      <td>The true story of how businessman Oskar Schind...</td>\n",
       "      <td>44.761</td>\n",
       "      <td>15/12/1993</td>\n",
       "      <td>8.6</td>\n",
       "      <td>12959</td>\n",
       "    </tr>\n",
       "    <tr>\n",
       "      <th>4</th>\n",
       "      <td>240</td>\n",
       "      <td>The Godfather: Part II</td>\n",
       "      <td>Drama,Crime</td>\n",
       "      <td>en</td>\n",
       "      <td>In the continuing saga of the Corleone crime f...</td>\n",
       "      <td>57.749</td>\n",
       "      <td>20/12/1974</td>\n",
       "      <td>8.6</td>\n",
       "      <td>9811</td>\n",
       "    </tr>\n",
       "  </tbody>\n",
       "</table>\n",
       "</div>"
      ],
      "text/plain": [
       "      id                        title                 genre original_language  \\\n",
       "0    278     The Shawshank Redemption           Drama,Crime                en   \n",
       "1  19404  Dilwale Dulhania Le Jayenge  Comedy,Drama,Romance                hi   \n",
       "2    238                The Godfather           Drama,Crime                en   \n",
       "3    424             Schindler's List     Drama,History,War                en   \n",
       "4    240       The Godfather: Part II           Drama,Crime                en   \n",
       "\n",
       "                                            overview  popularity release_date  \\\n",
       "0  Framed in the 1940s for the double murder of h...      94.075   23/09/1994   \n",
       "1  Raj is a rich, carefree, happy-go-lucky second...      25.408   19/10/1995   \n",
       "2  Spanning the years 1945 to 1955, a chronicle o...      90.585   14/03/1972   \n",
       "3  The true story of how businessman Oskar Schind...      44.761   15/12/1993   \n",
       "4  In the continuing saga of the Corleone crime f...      57.749   20/12/1974   \n",
       "\n",
       "   vote_average  vote_count  \n",
       "0           8.7       21862  \n",
       "1           8.7        3731  \n",
       "2           8.7       16280  \n",
       "3           8.6       12959  \n",
       "4           8.6        9811  "
      ]
     },
     "execution_count": 2,
     "metadata": {},
     "output_type": "execute_result"
    }
   ],
   "source": [
    "movies = pd.read_csv('data/top10K-TMDB-movies.csv')\n",
    "movies.head()"
   ]
  },
  {
   "cell_type": "code",
   "execution_count": 3,
   "id": "ca22560e-675e-4245-a9e5-6481369ef1f9",
   "metadata": {},
   "outputs": [
    {
     "name": "stdout",
     "output_type": "stream",
     "text": [
      "<class 'pandas.core.frame.DataFrame'>\n",
      "RangeIndex: 10000 entries, 0 to 9999\n",
      "Data columns (total 9 columns):\n",
      " #   Column             Non-Null Count  Dtype  \n",
      "---  ------             --------------  -----  \n",
      " 0   id                 10000 non-null  int64  \n",
      " 1   title              10000 non-null  object \n",
      " 2   genre              9997 non-null   object \n",
      " 3   original_language  10000 non-null  object \n",
      " 4   overview           9987 non-null   object \n",
      " 5   popularity         10000 non-null  float64\n",
      " 6   release_date       10000 non-null  object \n",
      " 7   vote_average       10000 non-null  float64\n",
      " 8   vote_count         10000 non-null  int64  \n",
      "dtypes: float64(2), int64(2), object(5)\n",
      "memory usage: 703.3+ KB\n"
     ]
    }
   ],
   "source": [
    "movies.info()"
   ]
  },
  {
   "cell_type": "code",
   "execution_count": 4,
   "id": "ab5985c3-86bd-4481-922f-6d0d70f17822",
   "metadata": {},
   "outputs": [],
   "source": [
    "def split_and_join_genres(genre_string):\n",
    "    if pd.isna(genre_string):\n",
    "        return ''\n",
    "    return ' '.join(genre_string.split(','))\n",
    "\n",
    "movies['genre'] = movies['genre'].apply(split_and_join_genres)"
   ]
  },
  {
   "cell_type": "code",
   "execution_count": 5,
   "id": "4e048e17-6437-4e62-b94f-2057a2f840bd",
   "metadata": {},
   "outputs": [],
   "source": [
    "movies = movies[['id', 'title', 'genre', 'overview']]\n",
    "movies['tags'] = movies['genre'] + \" \" + movies['overview']\n",
    "movies.drop(['genre', 'overview'], axis=1, inplace=True)"
   ]
  },
  {
   "cell_type": "code",
   "execution_count": 6,
   "id": "c7809eda-0f16-4033-9e3d-de75e619e37d",
   "metadata": {},
   "outputs": [
    {
     "data": {
      "text/html": [
       "<div>\n",
       "<style scoped>\n",
       "    .dataframe tbody tr th:only-of-type {\n",
       "        vertical-align: middle;\n",
       "    }\n",
       "\n",
       "    .dataframe tbody tr th {\n",
       "        vertical-align: top;\n",
       "    }\n",
       "\n",
       "    .dataframe thead th {\n",
       "        text-align: right;\n",
       "    }\n",
       "</style>\n",
       "<table border=\"1\" class=\"dataframe\">\n",
       "  <thead>\n",
       "    <tr style=\"text-align: right;\">\n",
       "      <th></th>\n",
       "      <th>id</th>\n",
       "      <th>title</th>\n",
       "      <th>tags</th>\n",
       "    </tr>\n",
       "  </thead>\n",
       "  <tbody>\n",
       "    <tr>\n",
       "      <th>0</th>\n",
       "      <td>278</td>\n",
       "      <td>The Shawshank Redemption</td>\n",
       "      <td>Drama Crime Framed in the 1940s for the double...</td>\n",
       "    </tr>\n",
       "    <tr>\n",
       "      <th>1</th>\n",
       "      <td>19404</td>\n",
       "      <td>Dilwale Dulhania Le Jayenge</td>\n",
       "      <td>Comedy Drama Romance Raj is a rich, carefree, ...</td>\n",
       "    </tr>\n",
       "    <tr>\n",
       "      <th>2</th>\n",
       "      <td>238</td>\n",
       "      <td>The Godfather</td>\n",
       "      <td>Drama Crime Spanning the years 1945 to 1955, a...</td>\n",
       "    </tr>\n",
       "    <tr>\n",
       "      <th>3</th>\n",
       "      <td>424</td>\n",
       "      <td>Schindler's List</td>\n",
       "      <td>Drama History War The true story of how busine...</td>\n",
       "    </tr>\n",
       "    <tr>\n",
       "      <th>4</th>\n",
       "      <td>240</td>\n",
       "      <td>The Godfather: Part II</td>\n",
       "      <td>Drama Crime In the continuing saga of the Corl...</td>\n",
       "    </tr>\n",
       "  </tbody>\n",
       "</table>\n",
       "</div>"
      ],
      "text/plain": [
       "      id                        title  \\\n",
       "0    278     The Shawshank Redemption   \n",
       "1  19404  Dilwale Dulhania Le Jayenge   \n",
       "2    238                The Godfather   \n",
       "3    424             Schindler's List   \n",
       "4    240       The Godfather: Part II   \n",
       "\n",
       "                                                tags  \n",
       "0  Drama Crime Framed in the 1940s for the double...  \n",
       "1  Comedy Drama Romance Raj is a rich, carefree, ...  \n",
       "2  Drama Crime Spanning the years 1945 to 1955, a...  \n",
       "3  Drama History War The true story of how busine...  \n",
       "4  Drama Crime In the continuing saga of the Corl...  "
      ]
     },
     "execution_count": 6,
     "metadata": {},
     "output_type": "execute_result"
    }
   ],
   "source": [
    "movies.head()"
   ]
  },
  {
   "cell_type": "code",
   "execution_count": 7,
   "id": "1cb683fc-9503-45b1-9e37-8f218df85ec3",
   "metadata": {},
   "outputs": [],
   "source": [
    "import nltk\n",
    "import re\n",
    "from nltk.corpus import stopwords\n",
    "from nltk.stem import WordNetLemmatizer\n",
    "from nltk.tokenize import word_tokenize\n",
    "\n",
    "# nltk.download('punkt')\n",
    "# nltk.download('wordnet')\n",
    "# nltk.download('stopwords')"
   ]
  },
  {
   "cell_type": "code",
   "execution_count": 8,
   "id": "6b16e5c7-87a9-402d-8494-aded92b55582",
   "metadata": {},
   "outputs": [],
   "source": [
    "def clean_text(text, return_tokens=False):\n",
    "    if not isinstance(text, str):\n",
    "        return ''\n",
    "    \n",
    "    lemmantizer = WordNetLemmatizer()\n",
    "    stop_words = set(stopwords.words('english'))\n",
    "\n",
    "    text = re.sub(r'[^a-zA-Z0-9\\s]', '', text.lower())\n",
    "    words = nltk.word_tokenize(text)\n",
    "    words = [lemmantizer.lemmatize(word) for word in words if word not in stop_words]\n",
    "\n",
    "    if return_tokens:\n",
    "        return words\n",
    "    else:\n",
    "        return ' '.join(words)"
   ]
  },
  {
   "cell_type": "code",
   "execution_count": 9,
   "id": "eea2d1b4-3511-453e-b1c5-4def02520a28",
   "metadata": {},
   "outputs": [],
   "source": [
    "movies['tags'] = movies['tags'].apply(clean_text)"
   ]
  },
  {
   "cell_type": "code",
   "execution_count": 10,
   "id": "061f1fae-5abe-404e-a04b-fd9ef2ff5d47",
   "metadata": {},
   "outputs": [
    {
     "data": {
      "text/html": [
       "<div>\n",
       "<style scoped>\n",
       "    .dataframe tbody tr th:only-of-type {\n",
       "        vertical-align: middle;\n",
       "    }\n",
       "\n",
       "    .dataframe tbody tr th {\n",
       "        vertical-align: top;\n",
       "    }\n",
       "\n",
       "    .dataframe thead th {\n",
       "        text-align: right;\n",
       "    }\n",
       "</style>\n",
       "<table border=\"1\" class=\"dataframe\">\n",
       "  <thead>\n",
       "    <tr style=\"text-align: right;\">\n",
       "      <th></th>\n",
       "      <th>id</th>\n",
       "      <th>title</th>\n",
       "      <th>tags</th>\n",
       "    </tr>\n",
       "  </thead>\n",
       "  <tbody>\n",
       "    <tr>\n",
       "      <th>0</th>\n",
       "      <td>278</td>\n",
       "      <td>The Shawshank Redemption</td>\n",
       "      <td>drama crime framed 1940s double murder wife lo...</td>\n",
       "    </tr>\n",
       "    <tr>\n",
       "      <th>1</th>\n",
       "      <td>19404</td>\n",
       "      <td>Dilwale Dulhania Le Jayenge</td>\n",
       "      <td>comedy drama romance raj rich carefree happygo...</td>\n",
       "    </tr>\n",
       "    <tr>\n",
       "      <th>2</th>\n",
       "      <td>238</td>\n",
       "      <td>The Godfather</td>\n",
       "      <td>drama crime spanning year 1945 1955 chronicle ...</td>\n",
       "    </tr>\n",
       "    <tr>\n",
       "      <th>3</th>\n",
       "      <td>424</td>\n",
       "      <td>Schindler's List</td>\n",
       "      <td>drama history war true story businessman oskar...</td>\n",
       "    </tr>\n",
       "    <tr>\n",
       "      <th>4</th>\n",
       "      <td>240</td>\n",
       "      <td>The Godfather: Part II</td>\n",
       "      <td>drama crime continuing saga corleone crime fam...</td>\n",
       "    </tr>\n",
       "  </tbody>\n",
       "</table>\n",
       "</div>"
      ],
      "text/plain": [
       "      id                        title  \\\n",
       "0    278     The Shawshank Redemption   \n",
       "1  19404  Dilwale Dulhania Le Jayenge   \n",
       "2    238                The Godfather   \n",
       "3    424             Schindler's List   \n",
       "4    240       The Godfather: Part II   \n",
       "\n",
       "                                                tags  \n",
       "0  drama crime framed 1940s double murder wife lo...  \n",
       "1  comedy drama romance raj rich carefree happygo...  \n",
       "2  drama crime spanning year 1945 1955 chronicle ...  \n",
       "3  drama history war true story businessman oskar...  \n",
       "4  drama crime continuing saga corleone crime fam...  "
      ]
     },
     "execution_count": 10,
     "metadata": {},
     "output_type": "execute_result"
    }
   ],
   "source": [
    "movies.head()"
   ]
  },
  {
   "cell_type": "code",
   "execution_count": 11,
   "id": "11300196-5709-4821-bcb7-e50d5943a54f",
   "metadata": {},
   "outputs": [],
   "source": [
    "from sklearn.feature_extraction.text import CountVectorizer, TfidfVectorizer\n",
    "from sklearn.decomposition import NMF"
   ]
  },
  {
   "cell_type": "code",
   "execution_count": 12,
   "id": "0e414c1c-e398-42e1-9c29-bfc8895ec0cd",
   "metadata": {},
   "outputs": [],
   "source": [
    "cvt = TfidfVectorizer(max_features=5000, stop_words='english')\n",
    "vector = cvt.fit_transform(movies['tags'].values.astype('U')).toarray()\n",
    "\n",
    "# nmf = NMF(n_components=50, random_state=42)\n",
    "# vectorized_data_nmf = nmf.fit_transform(vector)"
   ]
  },
  {
   "cell_type": "markdown",
   "id": "8455d30c-089a-4c4e-8941-f251f6390afa",
   "metadata": {},
   "source": [
    "### Content-Based Filtering"
   ]
  },
  {
   "cell_type": "code",
   "execution_count": 13,
   "id": "0849ffb3-5df0-4270-84df-dbc61b7fd564",
   "metadata": {},
   "outputs": [],
   "source": [
    "from sklearn.metrics.pairwise import cosine_similarity, linear_kernel"
   ]
  },
  {
   "cell_type": "code",
   "execution_count": 14,
   "id": "e2db5815-25c6-4252-be65-3f9f7f0ad188",
   "metadata": {},
   "outputs": [],
   "source": [
    "csm = cosine_similarity(vector, vector)\n",
    "lrk = linear_kernel(vector, vector)"
   ]
  },
  {
   "cell_type": "code",
   "execution_count": 25,
   "id": "1f99fd80-39e6-40e5-bc25-791d705ac30b",
   "metadata": {},
   "outputs": [],
   "source": [
    "def recommend(movie_title, similarity):\n",
    "    if movie_title not in movies['title'].values:\n",
    "        return f\"Movie titled {movie_title} not found....\"\n",
    "    index = movies[movies['title'] == movie_title].index[0]\n",
    "    distances = sorted(list(enumerate(similarity[index])), reverse=True, key=lambda x: x[1])\n",
    "    return [movies.iloc[i[0]].title for i in distances[1:11]]"
   ]
  },
  {
   "cell_type": "code",
   "execution_count": 26,
   "id": "04f4e2a1-4b71-4aad-a370-70cadcc555dc",
   "metadata": {},
   "outputs": [
    {
     "name": "stdout",
     "output_type": "stream",
     "text": [
      "Top 10 recommended movies after watching Iron:\n",
      "\n",
      "Movie titled Iron not found....\n"
     ]
    }
   ],
   "source": [
    "title = 'Iron'\n",
    "recommended = recommend(title, csm)\n",
    "print(f'Top 10 recommended movies after watching {title}:\\n')\n",
    "print(recommended)"
   ]
  },
  {
   "cell_type": "code",
   "execution_count": 27,
   "id": "6c20d4ea-534a-4550-a0a2-ae587904f0f2",
   "metadata": {},
   "outputs": [
    {
     "name": "stdout",
     "output_type": "stream",
     "text": [
      "Top 10 recommended movies after watching The Avengers:\n",
      "\n",
      "Marvel One-Shot: The Consultant\n",
      "Kingsman: The Secret Service\n",
      "Kingsman: The Golden Circle\n",
      "Spider-Man: Far From Home\n",
      "The Fountain\n",
      "Living in Oblivion\n",
      "Allegiant\n",
      "Timecop\n",
      "Avengers: Age of Ultron\n",
      "Echelon Conspiracy\n"
     ]
    }
   ],
   "source": [
    "title = 'The Avengers'\n",
    "recommended = recommend(title, lrk)\n",
    "print(f'Top 10 recommended movies after watching {title}:\\n')\n",
    "for i in recommended:\n",
    "    print(i)"
   ]
  },
  {
   "cell_type": "code",
   "execution_count": 28,
   "id": "67859233-ca6f-4d64-99e2-53181a015346",
   "metadata": {},
   "outputs": [
    {
     "name": "stdout",
     "output_type": "stream",
     "text": [
      "Top 10 recommended movies after watching The Godfather:\n",
      "\n",
      "Blood Ties\n",
      "The Godfather: Part II\n",
      "Extremely Wicked, Shockingly Evil and Vile\n",
      "Xtreme\n",
      "The Gangster, the Cop, the Devil\n",
      "Furious 7\n",
      "Proud Mary\n",
      "Joe\n",
      "The Color Purple\n",
      "The House That Jack Built\n"
     ]
    }
   ],
   "source": [
    "title = 'The Godfather'\n",
    "recommended = recommend(title, lrk)\n",
    "print(f'Top 10 recommended movies after watching {title}:\\n')\n",
    "for i in recommended:\n",
    "    print(i)"
   ]
  },
  {
   "cell_type": "code",
   "execution_count": null,
   "id": "148ebfd8-1ad3-4434-b404-64fee212ad39",
   "metadata": {},
   "outputs": [],
   "source": []
  }
 ],
 "metadata": {
  "kernelspec": {
   "display_name": "Python 3 (ipykernel)",
   "language": "python",
   "name": "python3"
  },
  "language_info": {
   "codemirror_mode": {
    "name": "ipython",
    "version": 3
   },
   "file_extension": ".py",
   "mimetype": "text/x-python",
   "name": "python",
   "nbconvert_exporter": "python",
   "pygments_lexer": "ipython3",
   "version": "3.12.4"
  }
 },
 "nbformat": 4,
 "nbformat_minor": 5
}
